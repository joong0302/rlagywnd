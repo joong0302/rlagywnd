{
  "nbformat": 4,
  "nbformat_minor": 0,
  "metadata": {
    "colab": {
      "name": "20211001-2.ipynb",
      "provenance": [],
      "authorship_tag": "ABX9TyOOsnsWNJAVfUPd6wG7Xu1N",
      "include_colab_link": true
    },
    "kernelspec": {
      "name": "python3",
      "display_name": "Python 3"
    },
    "language_info": {
      "name": "python"
    }
  },
  "cells": [
    {
      "cell_type": "markdown",
      "metadata": {
        "id": "view-in-github",
        "colab_type": "text"
      },
      "source": [
        "<a href=\"https://colab.research.google.com/github/joong0302/rlagywnd/blob/main/20211001_2.ipynb\" target=\"_parent\"><img src=\"https://colab.research.google.com/assets/colab-badge.svg\" alt=\"Open In Colab\"/></a>"
      ]
    },
    {
      "cell_type": "code",
      "metadata": {
        "colab": {
          "base_uri": "https://localhost:8080/"
        },
        "id": "D5ccis74YH6a",
        "outputId": "cc2cfc0d-64b4-4f2a-f6e6-a6220fd38972"
      },
      "source": [
        "import random\n",
        "\n",
        "print('*'*20)\n",
        "print('* 가위바위보 게임  *')\n",
        "print('*'*20)\n",
        "print('1.가위')\n",
        "print('2.바위')\n",
        "print('3.보')\n",
        "a=input('입력->')\n",
        "b=random.randrange(1,4)\n",
        "print('상대{0}'.format(b))\n",
        "if b==1 and int(a)== 1:\n",
        "  print('비김')\n",
        "elif b==2 and int(a)==2:\n",
        "  print('비김')\n",
        "elif b==3 and int(a)==3:\n",
        "  print(\"비김\")\n",
        "elif b==2 and int(a)==1 :\n",
        "  print(\"짐\")\n",
        "elif b==3 and int(a)==1:\n",
        "  print(\"승리\")\n",
        "elif b==3 and int(a)==2:\n",
        "  print('짐')\n",
        "elif b==1 and int(a)==2:\n",
        "  print('승리')\n",
        "elif b==1 and int(a)==3:\n",
        "  print('짐')\n",
        "elif b==2 and int(a)==3:\n",
        "  print('승리')\n",
        "\n"
      ],
      "execution_count": null,
      "outputs": [
        {
          "output_type": "stream",
          "name": "stdout",
          "text": [
            "********************\n",
            "* 가위바위보 게임  *\n",
            "********************\n",
            "1.가위\n",
            "2.바위\n",
            "3.보\n",
            "입력->1\n",
            "상대1\n",
            "비김\n"
          ]
        }
      ]
    },
    {
      "cell_type": "code",
      "metadata": {
        "id": "3oXcw5iFfbyJ"
      },
      "source": [
        ""
      ],
      "execution_count": null,
      "outputs": []
    },
    {
      "cell_type": "code",
      "metadata": {
        "colab": {
          "base_uri": "https://localhost:8080/"
        },
        "id": "vxhXB1CKj-8M",
        "outputId": "e414b223-9114-41e2-9cf9-b23863600189"
      },
      "source": [
        ""
      ],
      "execution_count": null,
      "outputs": [
        {
          "output_type": "stream",
          "name": "stdout",
          "text": [
            "나:가위\n",
            "상대:바위\n"
          ]
        }
      ]
    },
    {
      "cell_type": "code",
      "metadata": {
        "id": "qBlDUgbEj--Y"
      },
      "source": [
        ""
      ],
      "execution_count": null,
      "outputs": []
    },
    {
      "cell_type": "code",
      "metadata": {
        "id": "ZCwCZdZqj_Ap"
      },
      "source": [
        ""
      ],
      "execution_count": null,
      "outputs": []
    },
    {
      "cell_type": "code",
      "metadata": {
        "id": "2vNljcwYj_C8"
      },
      "source": [
        ""
      ],
      "execution_count": null,
      "outputs": []
    },
    {
      "cell_type": "code",
      "metadata": {
        "id": "4o_Y0uryj_FG"
      },
      "source": [
        ""
      ],
      "execution_count": null,
      "outputs": []
    }
  ]
}