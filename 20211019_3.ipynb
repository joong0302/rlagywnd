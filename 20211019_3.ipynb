{
  "nbformat": 4,
  "nbformat_minor": 0,
  "metadata": {
    "colab": {
      "name": "20211019-3.ipynb",
      "provenance": [],
      "authorship_tag": "ABX9TyNlKRYd9/+y0hPWAVVGxiwQ",
      "include_colab_link": true
    },
    "kernelspec": {
      "name": "python3",
      "display_name": "Python 3"
    },
    "language_info": {
      "name": "python"
    }
  },
  "cells": [
    {
      "cell_type": "markdown",
      "metadata": {
        "id": "view-in-github",
        "colab_type": "text"
      },
      "source": [
        "<a href=\"https://colab.research.google.com/github/joong0302/rlagywnd/blob/main/20211019_3.ipynb\" target=\"_parent\"><img src=\"https://colab.research.google.com/assets/colab-badge.svg\" alt=\"Open In Colab\"/></a>"
      ]
    },
    {
      "cell_type": "code",
      "metadata": {
        "id": "8RvKSaDzGItp"
      },
      "source": [
        ">>> def solution(weight, height):\n",
        "        height = height * 0.01\n",
        "        bmi = weight / (height * height)\n",
        "        if bmi < 18.5:\n",
        "                return \"마른체형\"\n",
        "        elif 18.5 <= bmi < 25.0:\n",
        "                return \"표준\"\n",
        "        elif 25.0 <= bmi < 30.0:\n",
        "                return \"비만\"\n",
        "        else:\n",
        "                return \"고도비만\""
      ],
      "execution_count": null,
      "outputs": []
    },
    {
      "cell_type": "code",
      "metadata": {
        "colab": {
          "base_uri": "https://localhost:8080/"
        },
        "id": "rDQQlWD1GRsp",
        "outputId": "9b9deaf3-7d67-483f-8a1a-96ca2039b0d2"
      },
      "source": [
        "print(solution(80,180))"
      ],
      "execution_count": null,
      "outputs": [
        {
          "output_type": "stream",
          "name": "stdout",
          "text": [
            "표준\n"
          ]
        }
      ]
    },
    {
      "cell_type": "code",
      "metadata": {
        "id": "YxjGCv12GRwD"
      },
      "source": [
        ""
      ],
      "execution_count": null,
      "outputs": []
    }
  ]
}