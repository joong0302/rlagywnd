{
  "nbformat": 4,
  "nbformat_minor": 0,
  "metadata": {
    "colab": {
      "name": "20211019-4.ipynb",
      "provenance": [],
      "collapsed_sections": [],
      "authorship_tag": "ABX9TyOWqeMnotwrXy31yBSxanMD",
      "include_colab_link": true
    },
    "kernelspec": {
      "name": "python3",
      "display_name": "Python 3"
    },
    "language_info": {
      "name": "python"
    }
  },
  "cells": [
    {
      "cell_type": "markdown",
      "metadata": {
        "id": "view-in-github",
        "colab_type": "text"
      },
      "source": [
        "<a href=\"https://colab.research.google.com/github/joong0302/rlagywnd/blob/main/20211019_4.ipynb\" target=\"_parent\"><img src=\"https://colab.research.google.com/assets/colab-badge.svg\" alt=\"Open In Colab\"/></a>"
      ]
    },
    {
      "cell_type": "code",
      "metadata": {
        "id": "0zq1CzhRP_WS"
      },
      "source": [
        "def solution(result):\n",
        "  score=0\n",
        "  for a in result:\n",
        "    if a=='W':\n",
        "      score+=3\n",
        "    elif a=='D':\n",
        "      score+=1\n",
        "  return score\n",
        "  "
      ],
      "execution_count": null,
      "outputs": []
    },
    {
      "cell_type": "code",
      "metadata": {
        "colab": {
          "base_uri": "https://localhost:8080/"
        },
        "id": "iflXxZdKQGB7",
        "outputId": "524d3833-d848-42c6-cbb2-83084d090190"
      },
      "source": [
        "print(solution('WWWWWDDWWWWWWL'))"
      ],
      "execution_count": null,
      "outputs": [
        {
          "output_type": "stream",
          "name": "stdout",
          "text": [
            "35\n"
          ]
        }
      ]
    },
    {
      "cell_type": "code",
      "metadata": {
        "id": "M_OD5wh3QGEV"
      },
      "source": [
        "def solution2(result):\n",
        "  a=0\n",
        "  for b in result:\n",
        "    if b=='a':\n",
        "      a=a+1\n",
        "    elif b=='i':\n",
        "      a=a+1\n",
        "    elif b=='e':\n",
        "      a=a+1\n",
        "    elif b=='o':\n",
        "      a=a+1\n",
        "    elif b=='u':\n",
        "      a=a+1\n",
        "    return a"
      ],
      "execution_count": null,
      "outputs": []
    },
    {
      "cell_type": "code",
      "metadata": {
        "colab": {
          "base_uri": "https://localhost:8080/"
        },
        "id": "Yui7wBYzQGG8",
        "outputId": "3367dc1f-8dff-481f-9706-59b626f1b83e"
      },
      "source": [
        "print(solution2(''))"
      ],
      "execution_count": null,
      "outputs": [
        {
          "output_type": "stream",
          "name": "stdout",
          "text": [
            "0\n"
          ]
        }
      ]
    },
    {
      "cell_type": "code",
      "metadata": {
        "id": "5CPpiGlQQGJi"
      },
      "source": [
        ""
      ],
      "execution_count": null,
      "outputs": []
    },
    {
      "cell_type": "code",
      "metadata": {
        "id": "ZU0joBVhQGMF"
      },
      "source": [
        ""
      ],
      "execution_count": null,
      "outputs": []
    },
    {
      "cell_type": "code",
      "metadata": {
        "id": "m28742-wQGPf"
      },
      "source": [
        ""
      ],
      "execution_count": null,
      "outputs": []
    },
    {
      "cell_type": "code",
      "metadata": {
        "id": "4rThdwCJQGSM"
      },
      "source": [
        ""
      ],
      "execution_count": null,
      "outputs": []
    },
    {
      "cell_type": "code",
      "metadata": {
        "id": "opIRWVyLQGVe"
      },
      "source": [
        ""
      ],
      "execution_count": null,
      "outputs": []
    },
    {
      "cell_type": "code",
      "metadata": {
        "id": "hmfwpWt_QGYG"
      },
      "source": [
        ""
      ],
      "execution_count": null,
      "outputs": []
    }
  ]
}